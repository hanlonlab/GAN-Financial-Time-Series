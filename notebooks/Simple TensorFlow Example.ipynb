{
 "cells": [
  {
   "cell_type": "code",
   "execution_count": 59,
   "metadata": {},
   "outputs": [
    {
     "name": "stdout",
     "output_type": "stream",
     "text": [
      "TensorFlow Version: 2.1.0\n"
     ]
    }
   ],
   "source": [
    "import tensorflow as tf\n",
    "\n",
    "print(f\"TensorFlow Version: {tf.version.VERSION}\")"
   ]
  },
  {
   "cell_type": "markdown",
   "metadata": {},
   "source": [
    "## Extremely Basic Example\n",
    "\n",
    "First Let's Generate Data!"
   ]
  },
  {
   "cell_type": "code",
   "execution_count": 60,
   "metadata": {},
   "outputs": [],
   "source": [
    "import numpy as np\n",
    "import matplotlib.pyplot as plt"
   ]
  },
  {
   "cell_type": "code",
   "execution_count": 61,
   "metadata": {},
   "outputs": [],
   "source": [
    "centers = {\n",
    "    (0,0): 0,\n",
    "    (2,2): 1,\n",
    "    (-2,-2): 2\n",
    "}\n",
    "\n",
    "_Data = {}\n",
    "Labels = []\n",
    "\n",
    "number_of_samples = 100\n",
    "for center in centers:\n",
    "    _Data[center] = np.random.multivariate_normal(\n",
    "        center, \n",
    "        [[.1,0],[0,.1]],\n",
    "        number_of_samples\n",
    "    )\n",
    "    Labels += [centers[center] for _ in range(number_of_samples)]\n",
    "    \n",
    "Data = np.vstack([_Data[(0,0)], _Data[(2,2)], _Data[(-2,-2)]])\n",
    "\n",
    "assert len(Data) == len(Labels), \"Data and Labels MUST be the same length\""
   ]
  },
  {
   "cell_type": "code",
   "execution_count": 62,
   "metadata": {},
   "outputs": [
    {
     "data": {
      "text/plain": [
       "<matplotlib.collections.PathCollection at 0x7f806470ef90>"
      ]
     },
     "execution_count": 62,
     "metadata": {},
     "output_type": "execute_result"
    },
    {
     "data": {
      "image/png": "[encoded data removed]",
      "text/plain": [
       "<Figure size 432x288 with 1 Axes>"
      ]
     },
     "metadata": {
      "needs_background": "light"
     },
     "output_type": "display_data"
    }
   ],
   "source": [
    "plt.scatter(Data[:,0], Data[:,1])"
   ]
  },
  {
   "cell_type": "code",
   "execution_count": 63,
   "metadata": {},
   "outputs": [],
   "source": [
    "model = tf.keras.Sequential()\n",
    "model.add(tf.keras.layers.Input(2))\n",
    "model.add(tf.keras.layers.Dense(5, activation='relu'))\n",
    "model.add(tf.keras.layers.Dense(3, activation='softmax'))\n",
    "\n",
    "model.compile(\n",
    "    optimizer='adam',\n",
    "    loss=tf.keras.losses.SparseCategoricalCrossentropy(),\n",
    "    metrics=['accuracy']\n",
    ")"
   ]
  },
  {
   "cell_type": "code",
   "execution_count": 64,
   "metadata": {},
   "outputs": [
    {
     "name": "stdout",
     "output_type": "stream",
     "text": [
      "Train on 300 samples\n",
      "Epoch 1/50\n",
      "300/300 [==============================] - 0s 679us/sample - loss: 1.0747 - accuracy: 0.3833\n",
      "Epoch 2/50\n",
      "300/300 [==============================] - 0s 51us/sample - loss: 1.0390 - accuracy: 0.4333\n",
      "Epoch 3/50\n",
      "300/300 [==============================] - 0s 62us/sample - loss: 1.0061 - accuracy: 0.6833\n",
      "Epoch 4/50\n",
      "300/300 [==============================] - 0s 55us/sample - loss: 0.9757 - accuracy: 0.7833\n",
      "Epoch 5/50\n",
      "300/300 [==============================] - 0s 56us/sample - loss: 0.9474 - accuracy: 0.8000\n",
      "Epoch 6/50\n",
      "300/300 [==============================] - 0s 64us/sample - loss: 0.9201 - accuracy: 0.8033\n",
      "Epoch 7/50\n",
      "300/300 [==============================] - 0s 51us/sample - loss: 0.8947 - accuracy: 0.8000\n",
      "Epoch 8/50\n",
      "300/300 [==============================] - 0s 54us/sample - loss: 0.8697 - accuracy: 0.8067\n",
      "Epoch 9/50\n",
      "300/300 [==============================] - 0s 55us/sample - loss: 0.8453 - accuracy: 0.8033\n",
      "Epoch 10/50\n",
      "300/300 [==============================] - 0s 55us/sample - loss: 0.8208 - accuracy: 0.8033\n",
      "Epoch 11/50\n",
      "300/300 [==============================] - 0s 60us/sample - loss: 0.7971 - accuracy: 0.8000\n",
      "Epoch 12/50\n",
      "300/300 [==============================] - 0s 56us/sample - loss: 0.7735 - accuracy: 0.8000\n",
      "Epoch 13/50\n",
      "300/300 [==============================] - 0s 53us/sample - loss: 0.7495 - accuracy: 0.8000\n",
      "Epoch 14/50\n",
      "300/300 [==============================] - 0s 56us/sample - loss: 0.7260 - accuracy: 0.8033\n",
      "Epoch 15/50\n",
      "300/300 [==============================] - 0s 54us/sample - loss: 0.7028 - accuracy: 0.8033\n",
      "Epoch 16/50\n",
      "300/300 [==============================] - 0s 51us/sample - loss: 0.6791 - accuracy: 0.8033\n",
      "Epoch 17/50\n",
      "300/300 [==============================] - 0s 52us/sample - loss: 0.6572 - accuracy: 0.8067\n",
      "Epoch 18/50\n",
      "300/300 [==============================] - 0s 48us/sample - loss: 0.6343 - accuracy: 0.8100\n",
      "Epoch 19/50\n",
      "300/300 [==============================] - 0s 51us/sample - loss: 0.6130 - accuracy: 0.8133\n",
      "Epoch 20/50\n",
      "300/300 [==============================] - 0s 50us/sample - loss: 0.5924 - accuracy: 0.8167\n",
      "Epoch 21/50\n",
      "300/300 [==============================] - 0s 53us/sample - loss: 0.5727 - accuracy: 0.8167\n",
      "Epoch 22/50\n",
      "300/300 [==============================] - 0s 52us/sample - loss: 0.5538 - accuracy: 0.8267\n",
      "Epoch 23/50\n",
      "300/300 [==============================] - 0s 54us/sample - loss: 0.5359 - accuracy: 0.8300\n",
      "Epoch 24/50\n",
      "300/300 [==============================] - 0s 53us/sample - loss: 0.5191 - accuracy: 0.8333\n",
      "Epoch 25/50\n",
      "300/300 [==============================] - 0s 53us/sample - loss: 0.5030 - accuracy: 0.8333\n",
      "Epoch 26/50\n",
      "300/300 [==============================] - ETA: 0s - loss: 0.5345 - accuracy: 0.71 - 0s 55us/sample - loss: 0.4879 - accuracy: 0.8467\n",
      "Epoch 27/50\n",
      "300/300 [==============================] - 0s 54us/sample - loss: 0.4733 - accuracy: 0.8633\n",
      "Epoch 28/50\n",
      "300/300 [==============================] - 0s 52us/sample - loss: 0.4596 - accuracy: 0.8633\n",
      "Epoch 29/50\n",
      "300/300 [==============================] - 0s 49us/sample - loss: 0.4466 - accuracy: 0.8733\n",
      "Epoch 30/50\n",
      "300/300 [==============================] - 0s 54us/sample - loss: 0.4341 - accuracy: 0.8800\n",
      "Epoch 31/50\n",
      "300/300 [==============================] - 0s 70us/sample - loss: 0.4221 - accuracy: 0.8833\n",
      "Epoch 32/50\n",
      "300/300 [==============================] - 0s 50us/sample - loss: 0.4107 - accuracy: 0.8933\n",
      "Epoch 33/50\n",
      "300/300 [==============================] - 0s 59us/sample - loss: 0.3996 - accuracy: 0.9133\n",
      "Epoch 34/50\n",
      "300/300 [==============================] - 0s 54us/sample - loss: 0.3893 - accuracy: 0.9233\n",
      "Epoch 35/50\n",
      "300/300 [==============================] - 0s 57us/sample - loss: 0.3788 - accuracy: 0.9300\n",
      "Epoch 36/50\n",
      "300/300 [==============================] - 0s 75us/sample - loss: 0.3690 - accuracy: 0.9333\n",
      "Epoch 37/50\n",
      "300/300 [==============================] - 0s 65us/sample - loss: 0.3594 - accuracy: 0.9400\n",
      "Epoch 38/50\n",
      "300/300 [==============================] - 0s 53us/sample - loss: 0.3502 - accuracy: 0.9433\n",
      "Epoch 39/50\n",
      "300/300 [==============================] - 0s 52us/sample - loss: 0.3411 - accuracy: 0.9467\n",
      "Epoch 40/50\n",
      "300/300 [==============================] - 0s 51us/sample - loss: 0.3324 - accuracy: 0.9500\n",
      "Epoch 41/50\n",
      "300/300 [==============================] - 0s 50us/sample - loss: 0.3238 - accuracy: 0.9567\n",
      "Epoch 42/50\n",
      "300/300 [==============================] - 0s 52us/sample - loss: 0.3154 - accuracy: 0.9600\n",
      "Epoch 43/50\n",
      "300/300 [==============================] - 0s 52us/sample - loss: 0.3072 - accuracy: 0.9667\n",
      "Epoch 44/50\n",
      "300/300 [==============================] - 0s 51us/sample - loss: 0.2992 - accuracy: 0.9700\n",
      "Epoch 45/50\n",
      "300/300 [==============================] - 0s 51us/sample - loss: 0.2915 - accuracy: 0.9700\n",
      "Epoch 46/50\n",
      "300/300 [==============================] - 0s 57us/sample - loss: 0.2839 - accuracy: 0.9700\n",
      "Epoch 47/50\n",
      "300/300 [==============================] - 0s 57us/sample - loss: 0.2764 - accuracy: 0.9733\n",
      "Epoch 48/50\n",
      "300/300 [==============================] - 0s 53us/sample - loss: 0.2692 - accuracy: 0.9833\n",
      "Epoch 49/50\n",
      "300/300 [==============================] - 0s 51us/sample - loss: 0.2621 - accuracy: 0.9833\n",
      "Epoch 50/50\n",
      "300/300 [==============================] - 0s 51us/sample - loss: 0.2554 - accuracy: 0.9833\n"
     ]
    },
    {
     "data": {
      "text/plain": [
       "<tensorflow.python.keras.callbacks.History at 0x7f80646ed6d0>"
      ]
     },
     "execution_count": 64,
     "metadata": {},
     "output_type": "execute_result"
    }
   ],
   "source": [
    "model.fit(\n",
    "    Data, np.array(Labels),\n",
    "    epochs=50\n",
    ")"
   ]
  },
  {
   "cell_type": "code",
   "execution_count": null,
   "metadata": {},
   "outputs": [],
   "source": []
  },
  {
   "cell_type": "code",
   "execution_count": null,
   "metadata": {},
   "outputs": [],
   "source": []
  }
 ],
 "metadata": {
  "kernelspec": {
   "display_name": "Python 3",
   "language": "python",
   "name": "python3"
  },
  "language_info": {
   "codemirror_mode": {
    "name": "ipython",
    "version": 3
   },
   "file_extension": ".py",
   "mimetype": "text/x-python",
   "name": "python",
   "nbconvert_exporter": "python",
   "pygments_lexer": "ipython3",
   "version": "3.7.6"
  }
 },
 "nbformat": 4,
 "nbformat_minor": 1
}
